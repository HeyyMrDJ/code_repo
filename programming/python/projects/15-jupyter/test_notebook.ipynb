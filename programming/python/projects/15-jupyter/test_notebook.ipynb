{
 "cells": [
  {
   "cell_type": "markdown",
   "id": "5fdfe7e6-ef40-4382-b9cf-48d143c6a588",
   "metadata": {},
   "source": [
    "# Learning Python\n",
    "Welcome to the Learning Python Jupyter-lab note book"
   ]
  },
  {
   "cell_type": "markdown",
   "id": "aab90c2d-7e37-4a65-aed4-bee0aafbf8d5",
   "metadata": {},
   "source": [
    "## Hello World\n",
    "Type print('Hello World') below and press SHIFT + ENTER"
   ]
  },
  {
   "cell_type": "code",
   "execution_count": 1,
   "id": "b1981a3e-a61b-4816-b048-5f59ad9a45bb",
   "metadata": {},
   "outputs": [
    {
     "name": "stdout",
     "output_type": "stream",
     "text": [
      "Hello World\n"
     ]
    }
   ],
   "source": [
    "print('Hello World')"
   ]
  },
  {
   "cell_type": "markdown",
   "id": "0faeed32-e79f-42ff-9886-b6ef2a022d0c",
   "metadata": {},
   "source": [
    "## Verify\n",
    "If you see 'Hello World' above then you ran it successfully. "
   ]
  },
  {
   "cell_type": "markdown",
   "id": "cda23283-19cf-4987-a10f-1b705bb96a4a",
   "metadata": {},
   "source": [
    "# Functions\n",
    "Type the below codeblock to define and then call a function\n",
    "```\n",
    "def add_numbers(x, y):\n",
    "    'Function to add two numbers and return the sum'\n",
    "    return x + y\n",
    "\n",
    "add_numbers(1, 2)\n",
    "```"
   ]
  },
  {
   "cell_type": "code",
   "execution_count": 3,
   "id": "254f5945-2257-4e9b-8aa5-eb86612fc2c2",
   "metadata": {},
   "outputs": [
    {
     "data": {
      "text/plain": [
       "3"
      ]
     },
     "execution_count": 3,
     "metadata": {},
     "output_type": "execute_result"
    }
   ],
   "source": [
    "def add_numbers(x, y):\n",
    "    'Function to add two numbers and return the sum'\n",
    "    return x + y\n",
    "\n",
    "add_numbers(1, 2)"
   ]
  },
  {
   "cell_type": "markdown",
   "id": "21bd0cba-e3db-461e-8866-850fac0f354e",
   "metadata": {},
   "source": [
    "## Verify \n",
    "If the output was 3 then you ran it successfully. "
   ]
  },
  {
   "cell_type": "code",
   "execution_count": null,
   "id": "4914f48b-afe7-4022-898d-3a8c7ec0a4fd",
   "metadata": {},
   "outputs": [],
   "source": []
  }
 ],
 "metadata": {
  "kernelspec": {
   "display_name": "Python 3.10.6 64-bit",
   "language": "python",
   "name": "python3"
  },
  "language_info": {
   "codemirror_mode": {
    "name": "ipython",
    "version": 3
   },
   "file_extension": ".py",
   "mimetype": "text/x-python",
   "name": "python",
   "nbconvert_exporter": "python",
   "pygments_lexer": "ipython3",
   "version": "3.10.7"
  },
  "toc-showmarkdowntxt": false,
  "vscode": {
   "interpreter": {
    "hash": "aee8b7b246df8f9039afb4144a1f6fd8d2ca17a180786b69acc140d282b71a49"
   }
  }
 },
 "nbformat": 4,
 "nbformat_minor": 5
}
